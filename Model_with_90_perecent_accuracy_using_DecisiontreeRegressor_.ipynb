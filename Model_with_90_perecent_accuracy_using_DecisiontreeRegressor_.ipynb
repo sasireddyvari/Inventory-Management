{
  "nbformat": 4,
  "nbformat_minor": 0,
  "metadata": {
    "kernelspec": {
      "display_name": "Python 3",
      "language": "python",
      "name": "python3"
    },
    "colab": {
      "name": "Model with 90 perecent accuracy using DecisiontreeRegressor .ipynb",
      "provenance": [],
      "collapsed_sections": [],
      "include_colab_link": true
    }
  },
  "cells": [
    {
      "cell_type": "markdown",
      "metadata": {
        "id": "view-in-github",
        "colab_type": "text"
      },
      "source": [
        "<a href=\"https://colab.research.google.com/github/sasireddyvari/Inventory_Management/blob/master/Model_with_90_perecent_accuracy_using_DecisiontreeRegressor_.ipynb\" target=\"_parent\"><img src=\"https://colab.research.google.com/assets/colab-badge.svg\" alt=\"Open In Colab\"/></a>"
      ]
    },
    {
      "cell_type": "code",
      "metadata": {
        "id": "6zt8ygolQrV1"
      },
      "source": [
        "import pandas as pd\n",
        "import numpy as np"
      ],
      "execution_count": 1,
      "outputs": []
    },
    {
      "cell_type": "code",
      "metadata": {
        "id": "7ujyPruSQrWI"
      },
      "source": [
        "df=pd.read_csv('/content/drive/MyDrive/Colab Notebooks/Projects/Ecommerce/E commerce Project/Data_ecommerce project.csv')"
      ],
      "execution_count": 5,
      "outputs": []
    },
    {
      "cell_type": "code",
      "metadata": {
        "colab": {
          "base_uri": "https://localhost:8080/",
          "height": 394
        },
        "id": "MNKOfwtsQrWO",
        "outputId": "30120a3a-602d-4cf3-ae13-09f66de1d98d"
      },
      "source": [
        "df.head()"
      ],
      "execution_count": 6,
      "outputs": [
        {
          "output_type": "execute_result",
          "data": {
            "text/html": [
              "<div>\n",
              "<style scoped>\n",
              "    .dataframe tbody tr th:only-of-type {\n",
              "        vertical-align: middle;\n",
              "    }\n",
              "\n",
              "    .dataframe tbody tr th {\n",
              "        vertical-align: top;\n",
              "    }\n",
              "\n",
              "    .dataframe thead th {\n",
              "        text-align: right;\n",
              "    }\n",
              "</style>\n",
              "<table border=\"1\" class=\"dataframe\">\n",
              "  <thead>\n",
              "    <tr style=\"text-align: right;\">\n",
              "      <th></th>\n",
              "      <th>ORDERTYPE</th>\n",
              "      <th>CUSTOMER</th>\n",
              "      <th>ITEMCODE</th>\n",
              "      <th>ORDERDATE</th>\n",
              "      <th>ORDERNO</th>\n",
              "      <th>OREDEREDQUANTITY</th>\n",
              "      <th>DELIVERYDATE</th>\n",
              "      <th>INVOICENO</th>\n",
              "      <th>DELIVEREDQUANTITY</th>\n",
              "    </tr>\n",
              "  </thead>\n",
              "  <tbody>\n",
              "    <tr>\n",
              "      <th>0</th>\n",
              "      <td>ES1</td>\n",
              "      <td>C00237</td>\n",
              "      <td>IT0001433</td>\n",
              "      <td>15-JAN-2014 12.00.00.000000000 AM</td>\n",
              "      <td>219856</td>\n",
              "      <td>15.0</td>\n",
              "      <td>16-FEB-2014 12.00.00.000000000 AM</td>\n",
              "      <td>21300726</td>\n",
              "      <td>15.0</td>\n",
              "    </tr>\n",
              "    <tr>\n",
              "      <th>1</th>\n",
              "      <td>ES1</td>\n",
              "      <td>C00237</td>\n",
              "      <td>IT0001016</td>\n",
              "      <td>15-JAN-2014 12.00.00.000000000 AM</td>\n",
              "      <td>219857</td>\n",
              "      <td>750.0</td>\n",
              "      <td>11-FEB-2014 12.00.00.000000000 AM</td>\n",
              "      <td>21300626</td>\n",
              "      <td>750.0</td>\n",
              "    </tr>\n",
              "    <tr>\n",
              "      <th>2</th>\n",
              "      <td>ES1</td>\n",
              "      <td>C00237</td>\n",
              "      <td>IT0001024</td>\n",
              "      <td>15-JAN-2014 12.00.00.000000000 AM</td>\n",
              "      <td>219857</td>\n",
              "      <td>320.0</td>\n",
              "      <td>16-FEB-2014 12.00.00.000000000 AM</td>\n",
              "      <td>21300727</td>\n",
              "      <td>320.0</td>\n",
              "    </tr>\n",
              "    <tr>\n",
              "      <th>3</th>\n",
              "      <td>ES1</td>\n",
              "      <td>C00237</td>\n",
              "      <td>IT0001084</td>\n",
              "      <td>15-JAN-2014 12.00.00.000000000 AM</td>\n",
              "      <td>219857</td>\n",
              "      <td>250.0</td>\n",
              "      <td>11-FEB-2014 12.00.00.000000000 AM</td>\n",
              "      <td>21300626</td>\n",
              "      <td>250.0</td>\n",
              "    </tr>\n",
              "    <tr>\n",
              "      <th>4</th>\n",
              "      <td>ES3</td>\n",
              "      <td>C00196</td>\n",
              "      <td>IT0001076</td>\n",
              "      <td>27-MAR-2014 12.00.00.000000000 AM</td>\n",
              "      <td>255311</td>\n",
              "      <td>250.0</td>\n",
              "      <td>28-MAR-2014 12.00.00.000000000 AM</td>\n",
              "      <td>21301499</td>\n",
              "      <td>250.0</td>\n",
              "    </tr>\n",
              "  </tbody>\n",
              "</table>\n",
              "</div>"
            ],
            "text/plain": [
              "  ORDERTYPE CUSTOMER  ... INVOICENO DELIVEREDQUANTITY\n",
              "0       ES1   C00237  ...  21300726              15.0\n",
              "1       ES1   C00237  ...  21300626             750.0\n",
              "2       ES1   C00237  ...  21300727             320.0\n",
              "3       ES1   C00237  ...  21300626             250.0\n",
              "4       ES3   C00196  ...  21301499             250.0\n",
              "\n",
              "[5 rows x 9 columns]"
            ]
          },
          "metadata": {
            "tags": []
          },
          "execution_count": 6
        }
      ]
    },
    {
      "cell_type": "code",
      "metadata": {
        "colab": {
          "base_uri": "https://localhost:8080/"
        },
        "id": "vQSdaddMQrWU",
        "outputId": "412eb166-25fc-4b31-8087-c6714fea4940"
      },
      "source": [
        "# Get the shape of data\n",
        "df.shape"
      ],
      "execution_count": 7,
      "outputs": [
        {
          "output_type": "execute_result",
          "data": {
            "text/plain": [
              "(51290, 9)"
            ]
          },
          "metadata": {
            "tags": []
          },
          "execution_count": 7
        }
      ]
    },
    {
      "cell_type": "code",
      "metadata": {
        "colab": {
          "base_uri": "https://localhost:8080/"
        },
        "id": "LrbqdAKjQrWV",
        "outputId": "d93977d6-8b00-403e-c57b-5c271753242d"
      },
      "source": [
        "# Checking any null values\n",
        "df.isnull().sum()"
      ],
      "execution_count": 8,
      "outputs": [
        {
          "output_type": "execute_result",
          "data": {
            "text/plain": [
              "ORDERTYPE            0\n",
              "CUSTOMER             0\n",
              "ITEMCODE             0\n",
              "ORDERDATE            0\n",
              "ORDERNO              0\n",
              "OREDEREDQUANTITY     0\n",
              "DELIVERYDATE         0\n",
              "INVOICENO            0\n",
              "DELIVEREDQUANTITY    0\n",
              "dtype: int64"
            ]
          },
          "metadata": {
            "tags": []
          },
          "execution_count": 8
        }
      ]
    },
    {
      "cell_type": "code",
      "metadata": {
        "colab": {
          "base_uri": "https://localhost:8080/",
          "height": 297
        },
        "id": "kaOyMBlsQrWW",
        "outputId": "c17d0451-49b8-4187-8dfa-773df6f2dcc2"
      },
      "source": [
        "## Summary statistics for numerical fields\n",
        "df.describe() # Negative values are there and will be removed after feature seelction"
      ],
      "execution_count": 9,
      "outputs": [
        {
          "output_type": "execute_result",
          "data": {
            "text/html": [
              "<div>\n",
              "<style scoped>\n",
              "    .dataframe tbody tr th:only-of-type {\n",
              "        vertical-align: middle;\n",
              "    }\n",
              "\n",
              "    .dataframe tbody tr th {\n",
              "        vertical-align: top;\n",
              "    }\n",
              "\n",
              "    .dataframe thead th {\n",
              "        text-align: right;\n",
              "    }\n",
              "</style>\n",
              "<table border=\"1\" class=\"dataframe\">\n",
              "  <thead>\n",
              "    <tr style=\"text-align: right;\">\n",
              "      <th></th>\n",
              "      <th>ORDERNO</th>\n",
              "      <th>OREDEREDQUANTITY</th>\n",
              "      <th>INVOICENO</th>\n",
              "      <th>DELIVEREDQUANTITY</th>\n",
              "    </tr>\n",
              "  </thead>\n",
              "  <tbody>\n",
              "    <tr>\n",
              "      <th>count</th>\n",
              "      <td>51290.000000</td>\n",
              "      <td>51290.000000</td>\n",
              "      <td>5.129000e+04</td>\n",
              "      <td>51290.000000</td>\n",
              "    </tr>\n",
              "    <tr>\n",
              "      <th>mean</th>\n",
              "      <td>261530.257731</td>\n",
              "      <td>804.710887</td>\n",
              "      <td>2.147239e+07</td>\n",
              "      <td>323.485761</td>\n",
              "    </tr>\n",
              "    <tr>\n",
              "      <th>std</th>\n",
              "      <td>18684.183311</td>\n",
              "      <td>2718.225194</td>\n",
              "      <td>1.112629e+05</td>\n",
              "      <td>1604.866920</td>\n",
              "    </tr>\n",
              "    <tr>\n",
              "      <th>min</th>\n",
              "      <td>219685.000000</td>\n",
              "      <td>-3500.000000</td>\n",
              "      <td>2.130000e+07</td>\n",
              "      <td>-3500.000000</td>\n",
              "    </tr>\n",
              "    <tr>\n",
              "      <th>25%</th>\n",
              "      <td>257207.000000</td>\n",
              "      <td>72.000000</td>\n",
              "      <td>2.140218e+07</td>\n",
              "      <td>56.000000</td>\n",
              "    </tr>\n",
              "    <tr>\n",
              "      <th>50%</th>\n",
              "      <td>260408.000000</td>\n",
              "      <td>250.000000</td>\n",
              "      <td>2.150270e+07</td>\n",
              "      <td>160.000000</td>\n",
              "    </tr>\n",
              "    <tr>\n",
              "      <th>75%</th>\n",
              "      <td>263897.000000</td>\n",
              "      <td>960.000000</td>\n",
              "      <td>2.160213e+07</td>\n",
              "      <td>320.000000</td>\n",
              "    </tr>\n",
              "    <tr>\n",
              "      <th>max</th>\n",
              "      <td>842035.000000</td>\n",
              "      <td>120000.000000</td>\n",
              "      <td>2.161415e+07</td>\n",
              "      <td>75000.000000</td>\n",
              "    </tr>\n",
              "  </tbody>\n",
              "</table>\n",
              "</div>"
            ],
            "text/plain": [
              "             ORDERNO  OREDEREDQUANTITY     INVOICENO  DELIVEREDQUANTITY\n",
              "count   51290.000000      51290.000000  5.129000e+04       51290.000000\n",
              "mean   261530.257731        804.710887  2.147239e+07         323.485761\n",
              "std     18684.183311       2718.225194  1.112629e+05        1604.866920\n",
              "min    219685.000000      -3500.000000  2.130000e+07       -3500.000000\n",
              "25%    257207.000000         72.000000  2.140218e+07          56.000000\n",
              "50%    260408.000000        250.000000  2.150270e+07         160.000000\n",
              "75%    263897.000000        960.000000  2.160213e+07         320.000000\n",
              "max    842035.000000     120000.000000  2.161415e+07       75000.000000"
            ]
          },
          "metadata": {
            "tags": []
          },
          "execution_count": 9
        }
      ]
    },
    {
      "cell_type": "code",
      "metadata": {
        "id": "zGmernzJQrWX"
      },
      "source": [
        "##Removing 'ORDERNO','DELIVERYDATE','INVOICENO','DELIVEREDQUANTITY', since required to predict orderquantity ie inormation value.\n",
        "\n",
        "df.drop(columns=['ORDERNO','DELIVERYDATE','INVOICENO','DELIVEREDQUANTITY'],inplace=True)"
      ],
      "execution_count": 10,
      "outputs": []
    },
    {
      "cell_type": "code",
      "metadata": {
        "colab": {
          "base_uri": "https://localhost:8080/",
          "height": 204
        },
        "id": "GaU4j1ZWQrWX",
        "outputId": "b490fd1e-383e-40c3-9059-41fda2828e0c"
      },
      "source": [
        "df.head()"
      ],
      "execution_count": 11,
      "outputs": [
        {
          "output_type": "execute_result",
          "data": {
            "text/html": [
              "<div>\n",
              "<style scoped>\n",
              "    .dataframe tbody tr th:only-of-type {\n",
              "        vertical-align: middle;\n",
              "    }\n",
              "\n",
              "    .dataframe tbody tr th {\n",
              "        vertical-align: top;\n",
              "    }\n",
              "\n",
              "    .dataframe thead th {\n",
              "        text-align: right;\n",
              "    }\n",
              "</style>\n",
              "<table border=\"1\" class=\"dataframe\">\n",
              "  <thead>\n",
              "    <tr style=\"text-align: right;\">\n",
              "      <th></th>\n",
              "      <th>ORDERTYPE</th>\n",
              "      <th>CUSTOMER</th>\n",
              "      <th>ITEMCODE</th>\n",
              "      <th>ORDERDATE</th>\n",
              "      <th>OREDEREDQUANTITY</th>\n",
              "    </tr>\n",
              "  </thead>\n",
              "  <tbody>\n",
              "    <tr>\n",
              "      <th>0</th>\n",
              "      <td>ES1</td>\n",
              "      <td>C00237</td>\n",
              "      <td>IT0001433</td>\n",
              "      <td>15-JAN-2014 12.00.00.000000000 AM</td>\n",
              "      <td>15.0</td>\n",
              "    </tr>\n",
              "    <tr>\n",
              "      <th>1</th>\n",
              "      <td>ES1</td>\n",
              "      <td>C00237</td>\n",
              "      <td>IT0001016</td>\n",
              "      <td>15-JAN-2014 12.00.00.000000000 AM</td>\n",
              "      <td>750.0</td>\n",
              "    </tr>\n",
              "    <tr>\n",
              "      <th>2</th>\n",
              "      <td>ES1</td>\n",
              "      <td>C00237</td>\n",
              "      <td>IT0001024</td>\n",
              "      <td>15-JAN-2014 12.00.00.000000000 AM</td>\n",
              "      <td>320.0</td>\n",
              "    </tr>\n",
              "    <tr>\n",
              "      <th>3</th>\n",
              "      <td>ES1</td>\n",
              "      <td>C00237</td>\n",
              "      <td>IT0001084</td>\n",
              "      <td>15-JAN-2014 12.00.00.000000000 AM</td>\n",
              "      <td>250.0</td>\n",
              "    </tr>\n",
              "    <tr>\n",
              "      <th>4</th>\n",
              "      <td>ES3</td>\n",
              "      <td>C00196</td>\n",
              "      <td>IT0001076</td>\n",
              "      <td>27-MAR-2014 12.00.00.000000000 AM</td>\n",
              "      <td>250.0</td>\n",
              "    </tr>\n",
              "  </tbody>\n",
              "</table>\n",
              "</div>"
            ],
            "text/plain": [
              "  ORDERTYPE CUSTOMER  ...                          ORDERDATE OREDEREDQUANTITY\n",
              "0       ES1   C00237  ...  15-JAN-2014 12.00.00.000000000 AM             15.0\n",
              "1       ES1   C00237  ...  15-JAN-2014 12.00.00.000000000 AM            750.0\n",
              "2       ES1   C00237  ...  15-JAN-2014 12.00.00.000000000 AM            320.0\n",
              "3       ES1   C00237  ...  15-JAN-2014 12.00.00.000000000 AM            250.0\n",
              "4       ES3   C00196  ...  27-MAR-2014 12.00.00.000000000 AM            250.0\n",
              "\n",
              "[5 rows x 5 columns]"
            ]
          },
          "metadata": {
            "tags": []
          },
          "execution_count": 11
        }
      ]
    },
    {
      "cell_type": "code",
      "metadata": {
        "colab": {
          "base_uri": "https://localhost:8080/"
        },
        "id": "Ed8Ap3dJQrWZ",
        "outputId": "5a353d18-f2f8-4f2e-af31-788123884d59"
      },
      "source": [
        "# Here date and month are important and that contributes more & year and other stuff doesnot matter.\n",
        "\n",
        "# In 'ORDERDATE' column getting one field and checking length and accordingly will slice what ever i want for model building.\n",
        "\n",
        "str='15-JAN-2014 12.00.00.000000000 AM'\n",
        "len(str)"
      ],
      "execution_count": 12,
      "outputs": [
        {
          "output_type": "execute_result",
          "data": {
            "text/plain": [
              "33"
            ]
          },
          "metadata": {
            "tags": []
          },
          "execution_count": 12
        }
      ]
    },
    {
      "cell_type": "code",
      "metadata": {
        "id": "JZwt0VsYQrWa"
      },
      "source": [
        "# Changing 'ORDERDATE' column to only date & month(Since if it is deployed also ,it will be more feasible & can give the same)\n",
        "\n",
        "df['ORDERDATE']=df.ORDERDATE.str.slice(0,6)"
      ],
      "execution_count": 13,
      "outputs": []
    },
    {
      "cell_type": "code",
      "metadata": {
        "colab": {
          "base_uri": "https://localhost:8080/",
          "height": 204
        },
        "id": "aa4u9H0wQrWa",
        "outputId": "a1fe48d3-2225-4e42-c27f-35156d0c1bbb"
      },
      "source": [
        "df.head()"
      ],
      "execution_count": 14,
      "outputs": [
        {
          "output_type": "execute_result",
          "data": {
            "text/html": [
              "<div>\n",
              "<style scoped>\n",
              "    .dataframe tbody tr th:only-of-type {\n",
              "        vertical-align: middle;\n",
              "    }\n",
              "\n",
              "    .dataframe tbody tr th {\n",
              "        vertical-align: top;\n",
              "    }\n",
              "\n",
              "    .dataframe thead th {\n",
              "        text-align: right;\n",
              "    }\n",
              "</style>\n",
              "<table border=\"1\" class=\"dataframe\">\n",
              "  <thead>\n",
              "    <tr style=\"text-align: right;\">\n",
              "      <th></th>\n",
              "      <th>ORDERTYPE</th>\n",
              "      <th>CUSTOMER</th>\n",
              "      <th>ITEMCODE</th>\n",
              "      <th>ORDERDATE</th>\n",
              "      <th>OREDEREDQUANTITY</th>\n",
              "    </tr>\n",
              "  </thead>\n",
              "  <tbody>\n",
              "    <tr>\n",
              "      <th>0</th>\n",
              "      <td>ES1</td>\n",
              "      <td>C00237</td>\n",
              "      <td>IT0001433</td>\n",
              "      <td>15-JAN</td>\n",
              "      <td>15.0</td>\n",
              "    </tr>\n",
              "    <tr>\n",
              "      <th>1</th>\n",
              "      <td>ES1</td>\n",
              "      <td>C00237</td>\n",
              "      <td>IT0001016</td>\n",
              "      <td>15-JAN</td>\n",
              "      <td>750.0</td>\n",
              "    </tr>\n",
              "    <tr>\n",
              "      <th>2</th>\n",
              "      <td>ES1</td>\n",
              "      <td>C00237</td>\n",
              "      <td>IT0001024</td>\n",
              "      <td>15-JAN</td>\n",
              "      <td>320.0</td>\n",
              "    </tr>\n",
              "    <tr>\n",
              "      <th>3</th>\n",
              "      <td>ES1</td>\n",
              "      <td>C00237</td>\n",
              "      <td>IT0001084</td>\n",
              "      <td>15-JAN</td>\n",
              "      <td>250.0</td>\n",
              "    </tr>\n",
              "    <tr>\n",
              "      <th>4</th>\n",
              "      <td>ES3</td>\n",
              "      <td>C00196</td>\n",
              "      <td>IT0001076</td>\n",
              "      <td>27-MAR</td>\n",
              "      <td>250.0</td>\n",
              "    </tr>\n",
              "  </tbody>\n",
              "</table>\n",
              "</div>"
            ],
            "text/plain": [
              "  ORDERTYPE CUSTOMER   ITEMCODE ORDERDATE  OREDEREDQUANTITY\n",
              "0       ES1   C00237  IT0001433    15-JAN              15.0\n",
              "1       ES1   C00237  IT0001016    15-JAN             750.0\n",
              "2       ES1   C00237  IT0001024    15-JAN             320.0\n",
              "3       ES1   C00237  IT0001084    15-JAN             250.0\n",
              "4       ES3   C00196  IT0001076    27-MAR             250.0"
            ]
          },
          "metadata": {
            "tags": []
          },
          "execution_count": 14
        }
      ]
    },
    {
      "cell_type": "code",
      "metadata": {
        "id": "RWjmVJ3bQrWb"
      },
      "source": [
        "# 29th feburauy wont be there in year 2017 so as part of data cleaning changed to '1st March'\n",
        "\n",
        "df.ORDERDATE.replace(['29-FEB'],['1-MAR'],inplace=True)"
      ],
      "execution_count": 16,
      "outputs": []
    },
    {
      "cell_type": "code",
      "metadata": {
        "colab": {
          "base_uri": "https://localhost:8080/"
        },
        "id": "-MN2iLJNQrWb",
        "outputId": "7b6200bb-38e4-4461-a121-c6a09cb5691e"
      },
      "source": [
        "df.ORDERDATE.value_counts() # Checking whether ['29-FEB'] still exists or not."
      ],
      "execution_count": 17,
      "outputs": [
        {
          "output_type": "execute_result",
          "data": {
            "text/plain": [
              "05-MAR    349\n",
              "09-FEB    333\n",
              "11-FEB    319\n",
              "23-MAY    297\n",
              "10-MAR    293\n",
              "         ... \n",
              "04-OCT     40\n",
              "07-JUL     38\n",
              "31-DEC     31\n",
              "1-MAR      24\n",
              "15-OCT     22\n",
              "Name: ORDERDATE, Length: 365, dtype: int64"
            ]
          },
          "metadata": {
            "tags": []
          },
          "execution_count": 17
        }
      ]
    },
    {
      "cell_type": "code",
      "metadata": {
        "id": "4n2KxKFgQrWc"
      },
      "source": [
        "# Coverting all categorical features to numbers\n",
        "\n",
        "from sklearn.preprocessing import LabelEncoder"
      ],
      "execution_count": 18,
      "outputs": []
    },
    {
      "cell_type": "code",
      "metadata": {
        "id": "5UADezzEQrWd"
      },
      "source": [
        "l=LabelEncoder()"
      ],
      "execution_count": 19,
      "outputs": []
    },
    {
      "cell_type": "code",
      "metadata": {
        "colab": {
          "base_uri": "https://localhost:8080/"
        },
        "id": "ulk-syB0RzNh",
        "outputId": "44edd788-158f-4bad-ad7f-c920ff0c9c68"
      },
      "source": [
        "df.dtypes"
      ],
      "execution_count": 22,
      "outputs": [
        {
          "output_type": "execute_result",
          "data": {
            "text/plain": [
              "ORDERTYPE            object\n",
              "CUSTOMER             object\n",
              "ITEMCODE             object\n",
              "ORDERDATE            object\n",
              "OREDEREDQUANTITY    float64\n",
              "dtype: object"
            ]
          },
          "metadata": {
            "tags": []
          },
          "execution_count": 22
        }
      ]
    },
    {
      "cell_type": "code",
      "metadata": {
        "colab": {
          "base_uri": "https://localhost:8080/"
        },
        "id": "H6nxZqRjRSQp",
        "outputId": "f9c00fe1-c4bc-4d41-cbb9-c389c717a90d"
      },
      "source": [
        "categorical_features=[feature for feature in df if df[feature].dtypes=='O']\r\n",
        "categorical_features"
      ],
      "execution_count": 21,
      "outputs": [
        {
          "output_type": "execute_result",
          "data": {
            "text/plain": [
              "['ORDERTYPE', 'CUSTOMER', 'ITEMCODE', 'ORDERDATE']"
            ]
          },
          "metadata": {
            "tags": []
          },
          "execution_count": 21
        }
      ]
    },
    {
      "cell_type": "code",
      "metadata": {
        "colab": {
          "base_uri": "https://localhost:8080/"
        },
        "id": "6YTKAuc5R3Bz",
        "outputId": "2bdd9932-8769-4644-ebcd-6214dba601f5"
      },
      "source": [
        "for feature in categorical_features:\r\n",
        "  print(\"\\033[1m\" + feature + \"\\033[0m\",':', df[feature].value_counts())"
      ],
      "execution_count": 27,
      "outputs": [
        {
          "output_type": "stream",
          "text": [
            "\u001b[1mORDERTYPE\u001b[0m : ES1    38480\n",
            "ES3    12515\n",
            "ESR      283\n",
            "HS1       12\n",
            "Name: ORDERTYPE, dtype: int64\n",
            "\u001b[1mCUSTOMER\u001b[0m : C00313    2893\n",
            "C00238    2874\n",
            "C00301    2647\n",
            "C00102    1971\n",
            "C00315    1930\n",
            "          ... \n",
            "C00144       1\n",
            "C00369       1\n",
            "C00188       1\n",
            "C00150       1\n",
            "C00189       1\n",
            "Name: CUSTOMER, Length: 279, dtype: int64\n",
            "\u001b[1mITEMCODE\u001b[0m : IT0001012    6380\n",
            "IT0001088    5842\n",
            "IT0001076    5320\n",
            "IT0001020    4541\n",
            "IT0001151    2316\n",
            "             ... \n",
            "IT0001212       1\n",
            "IT0001350       1\n",
            "IT0001100       1\n",
            "IT0001291       1\n",
            "IT0001321       1\n",
            "Name: ITEMCODE, Length: 528, dtype: int64\n",
            "\u001b[1mORDERDATE\u001b[0m : 05-MAR    349\n",
            "09-FEB    333\n",
            "11-FEB    319\n",
            "23-MAY    297\n",
            "10-MAR    293\n",
            "         ... \n",
            "04-OCT     40\n",
            "07-JUL     38\n",
            "31-DEC     31\n",
            "1-MAR      24\n",
            "15-OCT     22\n",
            "Name: ORDERDATE, Length: 365, dtype: int64\n"
          ],
          "name": "stdout"
        }
      ]
    },
    {
      "cell_type": "code",
      "metadata": {
        "id": "wBCWq5wgQrWd"
      },
      "source": [
        "df['ORDERTYPE']=l.fit_transform(df['ORDERTYPE'])\n",
        "df['CUSTOMER']=l.fit_transform(df['CUSTOMER'])\n",
        "df['ITEMCODE']=l.fit_transform(df['ITEMCODE'])\n",
        "df['ORDERDATE']=l.fit_transform(df['ORDERDATE'])"
      ],
      "execution_count": 28,
      "outputs": []
    },
    {
      "cell_type": "code",
      "metadata": {
        "colab": {
          "base_uri": "https://localhost:8080/",
          "height": 204
        },
        "id": "mDUCIXktQrWe",
        "outputId": "565ccc94-06c8-429f-ba55-78fab33f9418"
      },
      "source": [
        "df.head()"
      ],
      "execution_count": 29,
      "outputs": [
        {
          "output_type": "execute_result",
          "data": {
            "text/html": [
              "<div>\n",
              "<style scoped>\n",
              "    .dataframe tbody tr th:only-of-type {\n",
              "        vertical-align: middle;\n",
              "    }\n",
              "\n",
              "    .dataframe tbody tr th {\n",
              "        vertical-align: top;\n",
              "    }\n",
              "\n",
              "    .dataframe thead th {\n",
              "        text-align: right;\n",
              "    }\n",
              "</style>\n",
              "<table border=\"1\" class=\"dataframe\">\n",
              "  <thead>\n",
              "    <tr style=\"text-align: right;\">\n",
              "      <th></th>\n",
              "      <th>ORDERTYPE</th>\n",
              "      <th>CUSTOMER</th>\n",
              "      <th>ITEMCODE</th>\n",
              "      <th>ORDERDATE</th>\n",
              "      <th>OREDEREDQUANTITY</th>\n",
              "    </tr>\n",
              "  </thead>\n",
              "  <tbody>\n",
              "    <tr>\n",
              "      <th>0</th>\n",
              "      <td>0</td>\n",
              "      <td>136</td>\n",
              "      <td>432</td>\n",
              "      <td>172</td>\n",
              "      <td>15.0</td>\n",
              "    </tr>\n",
              "    <tr>\n",
              "      <th>1</th>\n",
              "      <td>0</td>\n",
              "      <td>136</td>\n",
              "      <td>15</td>\n",
              "      <td>172</td>\n",
              "      <td>750.0</td>\n",
              "    </tr>\n",
              "    <tr>\n",
              "      <th>2</th>\n",
              "      <td>0</td>\n",
              "      <td>136</td>\n",
              "      <td>23</td>\n",
              "      <td>172</td>\n",
              "      <td>320.0</td>\n",
              "    </tr>\n",
              "    <tr>\n",
              "      <th>3</th>\n",
              "      <td>0</td>\n",
              "      <td>136</td>\n",
              "      <td>83</td>\n",
              "      <td>172</td>\n",
              "      <td>250.0</td>\n",
              "    </tr>\n",
              "    <tr>\n",
              "      <th>4</th>\n",
              "      <td>1</td>\n",
              "      <td>95</td>\n",
              "      <td>75</td>\n",
              "      <td>319</td>\n",
              "      <td>250.0</td>\n",
              "    </tr>\n",
              "  </tbody>\n",
              "</table>\n",
              "</div>"
            ],
            "text/plain": [
              "   ORDERTYPE  CUSTOMER  ITEMCODE  ORDERDATE  OREDEREDQUANTITY\n",
              "0          0       136       432        172              15.0\n",
              "1          0       136        15        172             750.0\n",
              "2          0       136        23        172             320.0\n",
              "3          0       136        83        172             250.0\n",
              "4          1        95        75        319             250.0"
            ]
          },
          "metadata": {
            "tags": []
          },
          "execution_count": 29
        }
      ]
    },
    {
      "cell_type": "code",
      "metadata": {
        "colab": {
          "base_uri": "https://localhost:8080/"
        },
        "id": "3TZN9jNcS2gm",
        "outputId": "ac466953-95ce-4410-f38c-c613754028f4"
      },
      "source": [
        "for feature in categorical_features:\r\n",
        "  print(df[feature].value_counts())"
      ],
      "execution_count": 32,
      "outputs": [
        {
          "output_type": "stream",
          "text": [
            "0    38480\n",
            "1    12515\n",
            "2      283\n",
            "3       12\n",
            "Name: ORDERTYPE, dtype: int64\n",
            "212    2893\n",
            "137    2874\n",
            "200    2647\n",
            "1      1971\n",
            "214    1930\n",
            "       ... \n",
            "273       1\n",
            "185       1\n",
            "181       1\n",
            "218       1\n",
            "48        1\n",
            "Name: CUSTOMER, Length: 279, dtype: int64\n",
            "11     6380\n",
            "87     5842\n",
            "75     5320\n",
            "19     4541\n",
            "150    2316\n",
            "       ... \n",
            "285       1\n",
            "253       1\n",
            "205       1\n",
            "281       1\n",
            "170       1\n",
            "Name: ITEMCODE, Length: 528, dtype: int64\n",
            "54     349\n",
            "98     333\n",
            "123    319\n",
            "272    297\n",
            "115    293\n",
            "      ... \n",
            "45      40\n",
            "76      38\n",
            "359     31\n",
            "107     24\n",
            "178     22\n",
            "Name: ORDERDATE, Length: 365, dtype: int64\n"
          ],
          "name": "stdout"
        }
      ]
    },
    {
      "cell_type": "code",
      "metadata": {
        "colab": {
          "base_uri": "https://localhost:8080/",
          "height": 282
        },
        "id": "xnqYN8BOQrWe",
        "outputId": "7e7a497a-3a55-4f17-b4a1-56407405d72f"
      },
      "source": [
        "df.boxplot()"
      ],
      "execution_count": 33,
      "outputs": [
        {
          "output_type": "execute_result",
          "data": {
            "text/plain": [
              "<matplotlib.axes._subplots.AxesSubplot at 0x7ffacb820208>"
            ]
          },
          "metadata": {
            "tags": []
          },
          "execution_count": 33
        },
        {
          "output_type": "display_data",
          "data": {
            "image/png": "[encoded data removed]",
            "text/plain": [
              "<Figure size 432x288 with 1 Axes>"
            ]
          },
          "metadata": {
            "tags": [],
            "needs_background": "light"
          }
        }
      ]
    },
    {
      "cell_type": "code",
      "metadata": {
        "id": "aMyTNnZTQrWf"
      },
      "source": [
        "# By summary of staistics,negative values are there and that rows can be dropped or replaced with 0 \n",
        "# '-'can replaced with empty space using regex.(#Checking with domain experts we can place it accordingly )\n",
        "\n",
        "# Here i replaced all negative values with 0. \n",
        "\n",
        "df[df['OREDEREDQUANTITY']<0] =0"
      ],
      "execution_count": 34,
      "outputs": []
    },
    {
      "cell_type": "code",
      "metadata": {
        "colab": {
          "base_uri": "https://localhost:8080/",
          "height": 297
        },
        "id": "1plTSh5OQrWf",
        "outputId": "fd83f80e-47e8-4314-d5f6-839599c5b185"
      },
      "source": [
        "df.describe()"
      ],
      "execution_count": 35,
      "outputs": [
        {
          "output_type": "execute_result",
          "data": {
            "text/html": [
              "<div>\n",
              "<style scoped>\n",
              "    .dataframe tbody tr th:only-of-type {\n",
              "        vertical-align: middle;\n",
              "    }\n",
              "\n",
              "    .dataframe tbody tr th {\n",
              "        vertical-align: top;\n",
              "    }\n",
              "\n",
              "    .dataframe thead th {\n",
              "        text-align: right;\n",
              "    }\n",
              "</style>\n",
              "<table border=\"1\" class=\"dataframe\">\n",
              "  <thead>\n",
              "    <tr style=\"text-align: right;\">\n",
              "      <th></th>\n",
              "      <th>ORDERTYPE</th>\n",
              "      <th>CUSTOMER</th>\n",
              "      <th>ITEMCODE</th>\n",
              "      <th>ORDERDATE</th>\n",
              "      <th>OREDEREDQUANTITY</th>\n",
              "    </tr>\n",
              "  </thead>\n",
              "  <tbody>\n",
              "    <tr>\n",
              "      <th>count</th>\n",
              "      <td>51290.000000</td>\n",
              "      <td>51290.000000</td>\n",
              "      <td>51290.000000</td>\n",
              "      <td>51290.000000</td>\n",
              "      <td>51290.000000</td>\n",
              "    </tr>\n",
              "    <tr>\n",
              "      <th>mean</th>\n",
              "      <td>0.244707</td>\n",
              "      <td>136.195945</td>\n",
              "      <td>136.893313</td>\n",
              "      <td>178.316241</td>\n",
              "      <td>805.616802</td>\n",
              "    </tr>\n",
              "    <tr>\n",
              "      <th>std</th>\n",
              "      <td>0.431547</td>\n",
              "      <td>80.449751</td>\n",
              "      <td>142.185213</td>\n",
              "      <td>104.168389</td>\n",
              "      <td>2717.814670</td>\n",
              "    </tr>\n",
              "    <tr>\n",
              "      <th>min</th>\n",
              "      <td>0.000000</td>\n",
              "      <td>0.000000</td>\n",
              "      <td>0.000000</td>\n",
              "      <td>0.000000</td>\n",
              "      <td>0.000000</td>\n",
              "    </tr>\n",
              "    <tr>\n",
              "      <th>25%</th>\n",
              "      <td>0.000000</td>\n",
              "      <td>58.000000</td>\n",
              "      <td>26.000000</td>\n",
              "      <td>90.000000</td>\n",
              "      <td>72.000000</td>\n",
              "    </tr>\n",
              "    <tr>\n",
              "      <th>50%</th>\n",
              "      <td>0.000000</td>\n",
              "      <td>144.000000</td>\n",
              "      <td>87.000000</td>\n",
              "      <td>180.000000</td>\n",
              "      <td>250.000000</td>\n",
              "    </tr>\n",
              "    <tr>\n",
              "      <th>75%</th>\n",
              "      <td>0.000000</td>\n",
              "      <td>211.000000</td>\n",
              "      <td>158.000000</td>\n",
              "      <td>267.000000</td>\n",
              "      <td>960.000000</td>\n",
              "    </tr>\n",
              "    <tr>\n",
              "      <th>max</th>\n",
              "      <td>3.000000</td>\n",
              "      <td>278.000000</td>\n",
              "      <td>527.000000</td>\n",
              "      <td>364.000000</td>\n",
              "      <td>120000.000000</td>\n",
              "    </tr>\n",
              "  </tbody>\n",
              "</table>\n",
              "</div>"
            ],
            "text/plain": [
              "          ORDERTYPE      CUSTOMER      ITEMCODE     ORDERDATE  OREDEREDQUANTITY\n",
              "count  51290.000000  51290.000000  51290.000000  51290.000000      51290.000000\n",
              "mean       0.244707    136.195945    136.893313    178.316241        805.616802\n",
              "std        0.431547     80.449751    142.185213    104.168389       2717.814670\n",
              "min        0.000000      0.000000      0.000000      0.000000          0.000000\n",
              "25%        0.000000     58.000000     26.000000     90.000000         72.000000\n",
              "50%        0.000000    144.000000     87.000000    180.000000        250.000000\n",
              "75%        0.000000    211.000000    158.000000    267.000000        960.000000\n",
              "max        3.000000    278.000000    527.000000    364.000000     120000.000000"
            ]
          },
          "metadata": {
            "tags": []
          },
          "execution_count": 35
        }
      ]
    },
    {
      "cell_type": "code",
      "metadata": {
        "id": "f3lT6n0xQrWg"
      },
      "source": [
        "# Selecting the predictor variables\n",
        "\n",
        "x=df.iloc[:,:-1].values"
      ],
      "execution_count": 39,
      "outputs": []
    },
    {
      "cell_type": "code",
      "metadata": {
        "id": "RQvw8Z1SQrWg"
      },
      "source": [
        "# Selecting class variable\n",
        "\n",
        "y=df.iloc[:,4].values"
      ],
      "execution_count": 40,
      "outputs": []
    },
    {
      "cell_type": "code",
      "metadata": {
        "id": "E5iYXR8LQrWh"
      },
      "source": [
        "# Splitting the data in train and test.\n",
        "\n",
        "from sklearn.model_selection import train_test_split"
      ],
      "execution_count": 44,
      "outputs": []
    },
    {
      "cell_type": "code",
      "metadata": {
        "id": "QF8uxKgfQrWh"
      },
      "source": [
        "xtrain,xtest,ytrain,ytest=train_test_split(x,y,test_size=0.3,random_state=10)"
      ],
      "execution_count": 45,
      "outputs": []
    },
    {
      "cell_type": "code",
      "metadata": {
        "id": "mcRymK82QrWi"
      },
      "source": [
        "# Selecting the Classifier\n",
        "\n",
        "from sklearn.tree import DecisionTreeRegressor"
      ],
      "execution_count": 46,
      "outputs": []
    },
    {
      "cell_type": "code",
      "metadata": {
        "id": "CDg_nNAbQrWi"
      },
      "source": [
        "r=DecisionTreeRegressor()"
      ],
      "execution_count": 47,
      "outputs": []
    },
    {
      "cell_type": "code",
      "metadata": {
        "colab": {
          "base_uri": "https://localhost:8080/"
        },
        "id": "iEb2JuG0QrWj",
        "outputId": "656c75b0-2634-44df-a691-9e4c64a6dcaa"
      },
      "source": [
        "r.fit(xtrain,ytrain)"
      ],
      "execution_count": 48,
      "outputs": [
        {
          "output_type": "execute_result",
          "data": {
            "text/plain": [
              "DecisionTreeRegressor(ccp_alpha=0.0, criterion='mse', max_depth=None,\n",
              "                      max_features=None, max_leaf_nodes=None,\n",
              "                      min_impurity_decrease=0.0, min_impurity_split=None,\n",
              "                      min_samples_leaf=1, min_samples_split=2,\n",
              "                      min_weight_fraction_leaf=0.0, presort='deprecated',\n",
              "                      random_state=None, splitter='best')"
            ]
          },
          "metadata": {
            "tags": []
          },
          "execution_count": 48
        }
      ]
    },
    {
      "cell_type": "code",
      "metadata": {
        "id": "8MQoeOQ1QrWj"
      },
      "source": [
        "ypredict=r.predict(xtest)"
      ],
      "execution_count": 49,
      "outputs": []
    },
    {
      "cell_type": "code",
      "metadata": {
        "id": "k5xZp3KbQrWj"
      },
      "source": [
        "# Using R-sqaured or coefficient of deteremination is a statistical measure of how close the data are to the fitted \n",
        "# regression line\n",
        "\n",
        "from sklearn.metrics import r2_score"
      ],
      "execution_count": 50,
      "outputs": []
    },
    {
      "cell_type": "code",
      "metadata": {
        "colab": {
          "base_uri": "https://localhost:8080/"
        },
        "id": "RFiN3c-iQrWk",
        "outputId": "d98659da-6cfe-479a-a28a-d8dbd54050bc"
      },
      "source": [
        "r2_score(ypredict,ytest)"
      ],
      "execution_count": 51,
      "outputs": [
        {
          "output_type": "execute_result",
          "data": {
            "text/plain": [
              "0.9049003756311432"
            ]
          },
          "metadata": {
            "tags": []
          },
          "execution_count": 51
        }
      ]
    },
    {
      "cell_type": "code",
      "metadata": {
        "id": "thk3Z1HGQrWl"
      },
      "source": [
        ""
      ],
      "execution_count": null,
      "outputs": []
    },
    {
      "cell_type": "code",
      "metadata": {
        "id": "ySaxl_JUQrWl"
      },
      "source": [
        ""
      ],
      "execution_count": null,
      "outputs": []
    },
    {
      "cell_type": "code",
      "metadata": {
        "id": "zdXyQ0fpQrWl"
      },
      "source": [
        ""
      ],
      "execution_count": null,
      "outputs": []
    },
    {
      "cell_type": "code",
      "metadata": {
        "id": "CLQwSeUhQrWm"
      },
      "source": [
        ""
      ],
      "execution_count": null,
      "outputs": []
    }
  ]
}