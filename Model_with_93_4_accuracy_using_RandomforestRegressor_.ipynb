{
  "nbformat": 4,
  "nbformat_minor": 0,
  "metadata": {
    "kernelspec": {
      "display_name": "Python 3",
      "language": "python",
      "name": "python3"
    },
    "language_info": {
      "codemirror_mode": {
        "name": "ipython",
        "version": 3
      },
      "file_extension": ".py",
      "mimetype": "text/x-python",
      "name": "python",
      "nbconvert_exporter": "python",
      "pygments_lexer": "ipython3",
      "version": "3.7.3"
    },
    "colab": {
      "name": "Model with 93.4 accuracy using RandomforestRegressor .ipynb",
      "provenance": [],
      "collapsed_sections": [],
      "include_colab_link": true
    }
  },
  "cells": [
    {
      "cell_type": "markdown",
      "metadata": {
        "id": "view-in-github",
        "colab_type": "text"
      },
      "source": [
        "<a href=\"https://colab.research.google.com/github/sasireddyvari/Inventory_Management/blob/master/Model_with_93_4_accuracy_using_RandomforestRegressor_.ipynb\" target=\"_parent\"><img src=\"https://colab.research.google.com/assets/colab-badge.svg\" alt=\"Open In Colab\"/></a>"
      ]
    },
    {
      "cell_type": "code",
      "metadata": {
        "id": "CplGUySCV_HS"
      },
      "source": [
        "import pandas as pd\n",
        "import numpy as np"
      ],
      "execution_count": 4,
      "outputs": []
    },
    {
      "cell_type": "code",
      "metadata": {
        "id": "jTdxgjg3V_Ht"
      },
      "source": [
        "df=pd.read_csv('/content/drive/MyDrive/Colab Notebooks/Projects/Ecommerce/E commerce Project/Data_ecommerce project.csv')"
      ],
      "execution_count": 5,
      "outputs": []
    },
    {
      "cell_type": "code",
      "metadata": {
        "colab": {
          "base_uri": "https://localhost:8080/",
          "height": 394
        },
        "id": "_ef8MkbSV_H3",
        "outputId": "4868c505-af39-40b2-9810-e34ec4ea0f98"
      },
      "source": [
        "df.head()"
      ],
      "execution_count": 9,
      "outputs": [
        {
          "output_type": "execute_result",
          "data": {
            "text/html": [
              "<div>\n",
              "<style scoped>\n",
              "    .dataframe tbody tr th:only-of-type {\n",
              "        vertical-align: middle;\n",
              "    }\n",
              "\n",
              "    .dataframe tbody tr th {\n",
              "        vertical-align: top;\n",
              "    }\n",
              "\n",
              "    .dataframe thead th {\n",
              "        text-align: right;\n",
              "    }\n",
              "</style>\n",
              "<table border=\"1\" class=\"dataframe\">\n",
              "  <thead>\n",
              "    <tr style=\"text-align: right;\">\n",
              "      <th></th>\n",
              "      <th>ORDERTYPE</th>\n",
              "      <th>CUSTOMER</th>\n",
              "      <th>ITEMCODE</th>\n",
              "      <th>ORDERDATE</th>\n",
              "      <th>ORDERNO</th>\n",
              "      <th>OREDEREDQUANTITY</th>\n",
              "      <th>DELIVERYDATE</th>\n",
              "      <th>INVOICENO</th>\n",
              "      <th>DELIVEREDQUANTITY</th>\n",
              "    </tr>\n",
              "  </thead>\n",
              "  <tbody>\n",
              "    <tr>\n",
              "      <th>0</th>\n",
              "      <td>ES1</td>\n",
              "      <td>C00237</td>\n",
              "      <td>IT0001433</td>\n",
              "      <td>15-JAN-2014 12.00.00.000000000 AM</td>\n",
              "      <td>219856</td>\n",
              "      <td>15.0</td>\n",
              "      <td>16-FEB-2014 12.00.00.000000000 AM</td>\n",
              "      <td>21300726</td>\n",
              "      <td>15.0</td>\n",
              "    </tr>\n",
              "    <tr>\n",
              "      <th>1</th>\n",
              "      <td>ES1</td>\n",
              "      <td>C00237</td>\n",
              "      <td>IT0001016</td>\n",
              "      <td>15-JAN-2014 12.00.00.000000000 AM</td>\n",
              "      <td>219857</td>\n",
              "      <td>750.0</td>\n",
              "      <td>11-FEB-2014 12.00.00.000000000 AM</td>\n",
              "      <td>21300626</td>\n",
              "      <td>750.0</td>\n",
              "    </tr>\n",
              "    <tr>\n",
              "      <th>2</th>\n",
              "      <td>ES1</td>\n",
              "      <td>C00237</td>\n",
              "      <td>IT0001024</td>\n",
              "      <td>15-JAN-2014 12.00.00.000000000 AM</td>\n",
              "      <td>219857</td>\n",
              "      <td>320.0</td>\n",
              "      <td>16-FEB-2014 12.00.00.000000000 AM</td>\n",
              "      <td>21300727</td>\n",
              "      <td>320.0</td>\n",
              "    </tr>\n",
              "    <tr>\n",
              "      <th>3</th>\n",
              "      <td>ES1</td>\n",
              "      <td>C00237</td>\n",
              "      <td>IT0001084</td>\n",
              "      <td>15-JAN-2014 12.00.00.000000000 AM</td>\n",
              "      <td>219857</td>\n",
              "      <td>250.0</td>\n",
              "      <td>11-FEB-2014 12.00.00.000000000 AM</td>\n",
              "      <td>21300626</td>\n",
              "      <td>250.0</td>\n",
              "    </tr>\n",
              "    <tr>\n",
              "      <th>4</th>\n",
              "      <td>ES3</td>\n",
              "      <td>C00196</td>\n",
              "      <td>IT0001076</td>\n",
              "      <td>27-MAR-2014 12.00.00.000000000 AM</td>\n",
              "      <td>255311</td>\n",
              "      <td>250.0</td>\n",
              "      <td>28-MAR-2014 12.00.00.000000000 AM</td>\n",
              "      <td>21301499</td>\n",
              "      <td>250.0</td>\n",
              "    </tr>\n",
              "  </tbody>\n",
              "</table>\n",
              "</div>"
            ],
            "text/plain": [
              "  ORDERTYPE CUSTOMER  ... INVOICENO DELIVEREDQUANTITY\n",
              "0       ES1   C00237  ...  21300726              15.0\n",
              "1       ES1   C00237  ...  21300626             750.0\n",
              "2       ES1   C00237  ...  21300727             320.0\n",
              "3       ES1   C00237  ...  21300626             250.0\n",
              "4       ES3   C00196  ...  21301499             250.0\n",
              "\n",
              "[5 rows x 9 columns]"
            ]
          },
          "metadata": {
            "tags": []
          },
          "execution_count": 9
        }
      ]
    },
    {
      "cell_type": "code",
      "metadata": {
        "colab": {
          "base_uri": "https://localhost:8080/"
        },
        "id": "M1nxB4Y0V_H7",
        "outputId": "e5672715-fc88-41c5-b032-7c48341b23a2"
      },
      "source": [
        "# Get the shape of data\n",
        "df.shape"
      ],
      "execution_count": 10,
      "outputs": [
        {
          "output_type": "execute_result",
          "data": {
            "text/plain": [
              "(51290, 9)"
            ]
          },
          "metadata": {
            "tags": []
          },
          "execution_count": 10
        }
      ]
    },
    {
      "cell_type": "code",
      "metadata": {
        "colab": {
          "base_uri": "https://localhost:8080/"
        },
        "id": "7ClAAQGSV_H9",
        "outputId": "5bd06546-846f-4ab5-a7d0-52190ca2ef95"
      },
      "source": [
        "# Checking any null values\n",
        "df.isnull().sum()"
      ],
      "execution_count": 11,
      "outputs": [
        {
          "output_type": "execute_result",
          "data": {
            "text/plain": [
              "ORDERTYPE            0\n",
              "CUSTOMER             0\n",
              "ITEMCODE             0\n",
              "ORDERDATE            0\n",
              "ORDERNO              0\n",
              "OREDEREDQUANTITY     0\n",
              "DELIVERYDATE         0\n",
              "INVOICENO            0\n",
              "DELIVEREDQUANTITY    0\n",
              "dtype: int64"
            ]
          },
          "metadata": {
            "tags": []
          },
          "execution_count": 11
        }
      ]
    },
    {
      "cell_type": "code",
      "metadata": {
        "colab": {
          "base_uri": "https://localhost:8080/",
          "height": 297
        },
        "id": "80_t0fOsV_H_",
        "outputId": "5e484ca3-c549-4182-c925-2bb709550fcd"
      },
      "source": [
        "## Summary statistics for numerical fields\n",
        "df.describe() # Negative values are there and will be removed after feature seelction"
      ],
      "execution_count": 12,
      "outputs": [
        {
          "output_type": "execute_result",
          "data": {
            "text/html": [
              "<div>\n",
              "<style scoped>\n",
              "    .dataframe tbody tr th:only-of-type {\n",
              "        vertical-align: middle;\n",
              "    }\n",
              "\n",
              "    .dataframe tbody tr th {\n",
              "        vertical-align: top;\n",
              "    }\n",
              "\n",
              "    .dataframe thead th {\n",
              "        text-align: right;\n",
              "    }\n",
              "</style>\n",
              "<table border=\"1\" class=\"dataframe\">\n",
              "  <thead>\n",
              "    <tr style=\"text-align: right;\">\n",
              "      <th></th>\n",
              "      <th>ORDERNO</th>\n",
              "      <th>OREDEREDQUANTITY</th>\n",
              "      <th>INVOICENO</th>\n",
              "      <th>DELIVEREDQUANTITY</th>\n",
              "    </tr>\n",
              "  </thead>\n",
              "  <tbody>\n",
              "    <tr>\n",
              "      <th>count</th>\n",
              "      <td>51290.000000</td>\n",
              "      <td>51290.000000</td>\n",
              "      <td>5.129000e+04</td>\n",
              "      <td>51290.000000</td>\n",
              "    </tr>\n",
              "    <tr>\n",
              "      <th>mean</th>\n",
              "      <td>261530.257731</td>\n",
              "      <td>804.710887</td>\n",
              "      <td>2.147239e+07</td>\n",
              "      <td>323.485761</td>\n",
              "    </tr>\n",
              "    <tr>\n",
              "      <th>std</th>\n",
              "      <td>18684.183311</td>\n",
              "      <td>2718.225194</td>\n",
              "      <td>1.112629e+05</td>\n",
              "      <td>1604.866920</td>\n",
              "    </tr>\n",
              "    <tr>\n",
              "      <th>min</th>\n",
              "      <td>219685.000000</td>\n",
              "      <td>-3500.000000</td>\n",
              "      <td>2.130000e+07</td>\n",
              "      <td>-3500.000000</td>\n",
              "    </tr>\n",
              "    <tr>\n",
              "      <th>25%</th>\n",
              "      <td>257207.000000</td>\n",
              "      <td>72.000000</td>\n",
              "      <td>2.140218e+07</td>\n",
              "      <td>56.000000</td>\n",
              "    </tr>\n",
              "    <tr>\n",
              "      <th>50%</th>\n",
              "      <td>260408.000000</td>\n",
              "      <td>250.000000</td>\n",
              "      <td>2.150270e+07</td>\n",
              "      <td>160.000000</td>\n",
              "    </tr>\n",
              "    <tr>\n",
              "      <th>75%</th>\n",
              "      <td>263897.000000</td>\n",
              "      <td>960.000000</td>\n",
              "      <td>2.160213e+07</td>\n",
              "      <td>320.000000</td>\n",
              "    </tr>\n",
              "    <tr>\n",
              "      <th>max</th>\n",
              "      <td>842035.000000</td>\n",
              "      <td>120000.000000</td>\n",
              "      <td>2.161415e+07</td>\n",
              "      <td>75000.000000</td>\n",
              "    </tr>\n",
              "  </tbody>\n",
              "</table>\n",
              "</div>"
            ],
            "text/plain": [
              "             ORDERNO  OREDEREDQUANTITY     INVOICENO  DELIVEREDQUANTITY\n",
              "count   51290.000000      51290.000000  5.129000e+04       51290.000000\n",
              "mean   261530.257731        804.710887  2.147239e+07         323.485761\n",
              "std     18684.183311       2718.225194  1.112629e+05        1604.866920\n",
              "min    219685.000000      -3500.000000  2.130000e+07       -3500.000000\n",
              "25%    257207.000000         72.000000  2.140218e+07          56.000000\n",
              "50%    260408.000000        250.000000  2.150270e+07         160.000000\n",
              "75%    263897.000000        960.000000  2.160213e+07         320.000000\n",
              "max    842035.000000     120000.000000  2.161415e+07       75000.000000"
            ]
          },
          "metadata": {
            "tags": []
          },
          "execution_count": 12
        }
      ]
    },
    {
      "cell_type": "code",
      "metadata": {
        "id": "0qcSGB2PV_IA"
      },
      "source": [
        "##Removing 'ORDERNO','DELIVERYDATE','INVOICENO','DELIVEREDQUANTITY', since required to predict orderquantity ie inormation value.\n",
        "\n",
        "df.drop(columns=['ORDERNO','DELIVERYDATE','INVOICENO','DELIVEREDQUANTITY'],inplace=True)"
      ],
      "execution_count": 13,
      "outputs": []
    },
    {
      "cell_type": "code",
      "metadata": {
        "colab": {
          "base_uri": "https://localhost:8080/",
          "height": 204
        },
        "id": "pUwFiakZV_IB",
        "outputId": "fe481e66-ab0a-4cb5-cc30-bdf37f070a10"
      },
      "source": [
        "df.head()"
      ],
      "execution_count": 14,
      "outputs": [
        {
          "output_type": "execute_result",
          "data": {
            "text/html": [
              "<div>\n",
              "<style scoped>\n",
              "    .dataframe tbody tr th:only-of-type {\n",
              "        vertical-align: middle;\n",
              "    }\n",
              "\n",
              "    .dataframe tbody tr th {\n",
              "        vertical-align: top;\n",
              "    }\n",
              "\n",
              "    .dataframe thead th {\n",
              "        text-align: right;\n",
              "    }\n",
              "</style>\n",
              "<table border=\"1\" class=\"dataframe\">\n",
              "  <thead>\n",
              "    <tr style=\"text-align: right;\">\n",
              "      <th></th>\n",
              "      <th>ORDERTYPE</th>\n",
              "      <th>CUSTOMER</th>\n",
              "      <th>ITEMCODE</th>\n",
              "      <th>ORDERDATE</th>\n",
              "      <th>OREDEREDQUANTITY</th>\n",
              "    </tr>\n",
              "  </thead>\n",
              "  <tbody>\n",
              "    <tr>\n",
              "      <th>0</th>\n",
              "      <td>ES1</td>\n",
              "      <td>C00237</td>\n",
              "      <td>IT0001433</td>\n",
              "      <td>15-JAN-2014 12.00.00.000000000 AM</td>\n",
              "      <td>15.0</td>\n",
              "    </tr>\n",
              "    <tr>\n",
              "      <th>1</th>\n",
              "      <td>ES1</td>\n",
              "      <td>C00237</td>\n",
              "      <td>IT0001016</td>\n",
              "      <td>15-JAN-2014 12.00.00.000000000 AM</td>\n",
              "      <td>750.0</td>\n",
              "    </tr>\n",
              "    <tr>\n",
              "      <th>2</th>\n",
              "      <td>ES1</td>\n",
              "      <td>C00237</td>\n",
              "      <td>IT0001024</td>\n",
              "      <td>15-JAN-2014 12.00.00.000000000 AM</td>\n",
              "      <td>320.0</td>\n",
              "    </tr>\n",
              "    <tr>\n",
              "      <th>3</th>\n",
              "      <td>ES1</td>\n",
              "      <td>C00237</td>\n",
              "      <td>IT0001084</td>\n",
              "      <td>15-JAN-2014 12.00.00.000000000 AM</td>\n",
              "      <td>250.0</td>\n",
              "    </tr>\n",
              "    <tr>\n",
              "      <th>4</th>\n",
              "      <td>ES3</td>\n",
              "      <td>C00196</td>\n",
              "      <td>IT0001076</td>\n",
              "      <td>27-MAR-2014 12.00.00.000000000 AM</td>\n",
              "      <td>250.0</td>\n",
              "    </tr>\n",
              "  </tbody>\n",
              "</table>\n",
              "</div>"
            ],
            "text/plain": [
              "  ORDERTYPE CUSTOMER  ...                          ORDERDATE OREDEREDQUANTITY\n",
              "0       ES1   C00237  ...  15-JAN-2014 12.00.00.000000000 AM             15.0\n",
              "1       ES1   C00237  ...  15-JAN-2014 12.00.00.000000000 AM            750.0\n",
              "2       ES1   C00237  ...  15-JAN-2014 12.00.00.000000000 AM            320.0\n",
              "3       ES1   C00237  ...  15-JAN-2014 12.00.00.000000000 AM            250.0\n",
              "4       ES3   C00196  ...  27-MAR-2014 12.00.00.000000000 AM            250.0\n",
              "\n",
              "[5 rows x 5 columns]"
            ]
          },
          "metadata": {
            "tags": []
          },
          "execution_count": 14
        }
      ]
    },
    {
      "cell_type": "code",
      "metadata": {
        "colab": {
          "base_uri": "https://localhost:8080/"
        },
        "id": "yFtr40HqV_IC",
        "outputId": "020eeb18-3c5b-40e4-9160-30653dbf01a4"
      },
      "source": [
        "# Here date and month are important and that contributes more & year and other stuff doesnot matter.\n",
        "\n",
        "# In 'ORDERDATE' column getting one field and checking length and accordingly will slice what ever i want for model building.\n",
        "\n",
        "str='15-JAN-2014 12.00.00.000000000 AM'\n",
        "len(str)"
      ],
      "execution_count": 15,
      "outputs": [
        {
          "output_type": "execute_result",
          "data": {
            "text/plain": [
              "33"
            ]
          },
          "metadata": {
            "tags": []
          },
          "execution_count": 15
        }
      ]
    },
    {
      "cell_type": "code",
      "metadata": {
        "id": "CFtGoCl2V_IE"
      },
      "source": [
        "# Changing 'ORDERDATE' column to only date & month(Since if it is deployed also ,it will be more feasible & can give the same)\n",
        "\n",
        "df['ORDERDATE']=df.ORDERDATE.str.slice(0,6)"
      ],
      "execution_count": 16,
      "outputs": []
    },
    {
      "cell_type": "code",
      "metadata": {
        "id": "5bvEbChgV_IF"
      },
      "source": [
        "#df['ORDERDATE']=df['ORDERDATE'].map({'29-FEB':'1-MAR'})"
      ],
      "execution_count": 17,
      "outputs": []
    },
    {
      "cell_type": "code",
      "metadata": {
        "id": "z38viamyV_IG"
      },
      "source": [
        "# 29th feburauy wont be there in year 2017 so as part of data cleaning changed to '1st March'\n",
        "\n",
        "df.ORDERDATE.replace(['29-FEB'],['1-MAR'],inplace=True)"
      ],
      "execution_count": 18,
      "outputs": []
    },
    {
      "cell_type": "code",
      "metadata": {
        "colab": {
          "base_uri": "https://localhost:8080/"
        },
        "id": "pRem_MR0V_IH",
        "outputId": "575a8ee2-5cd7-4028-fa67-3f76574102bf"
      },
      "source": [
        "df.ORDERDATE.value_counts() # Checking whether ['29-FEB'] still exists or not."
      ],
      "execution_count": 19,
      "outputs": [
        {
          "output_type": "execute_result",
          "data": {
            "text/plain": [
              "05-MAR    349\n",
              "09-FEB    333\n",
              "11-FEB    319\n",
              "23-MAY    297\n",
              "10-MAR    293\n",
              "         ... \n",
              "04-OCT     40\n",
              "07-JUL     38\n",
              "31-DEC     31\n",
              "1-MAR      24\n",
              "15-OCT     22\n",
              "Name: ORDERDATE, Length: 365, dtype: int64"
            ]
          },
          "metadata": {
            "tags": []
          },
          "execution_count": 19
        }
      ]
    },
    {
      "cell_type": "code",
      "metadata": {
        "id": "od0t6BM4V_II"
      },
      "source": [
        "# Coverting all categorical features to numbers\n",
        "\n",
        "from sklearn.preprocessing import LabelEncoder"
      ],
      "execution_count": 20,
      "outputs": []
    },
    {
      "cell_type": "code",
      "metadata": {
        "id": "xj97JwLmV_IJ"
      },
      "source": [
        "l=LabelEncoder()"
      ],
      "execution_count": 21,
      "outputs": []
    },
    {
      "cell_type": "code",
      "metadata": {
        "id": "uw09leLSV_IK"
      },
      "source": [
        "df['ORDERTYPE']=l.fit_transform(df['ORDERTYPE'])\n",
        "df['CUSTOMER']=l.fit_transform(df['CUSTOMER'])\n",
        "df['ITEMCODE']=l.fit_transform(df['ITEMCODE'])\n",
        "df['ORDERDATE']=l.fit_transform(df['ORDERDATE'])"
      ],
      "execution_count": 22,
      "outputs": []
    },
    {
      "cell_type": "code",
      "metadata": {
        "colab": {
          "base_uri": "https://localhost:8080/",
          "height": 204
        },
        "id": "TTpKv3hCV_IK",
        "outputId": "1a9056d4-f6f5-4525-f4e8-1b6c2c29636c"
      },
      "source": [
        "df.head()"
      ],
      "execution_count": 23,
      "outputs": [
        {
          "output_type": "execute_result",
          "data": {
            "text/html": [
              "<div>\n",
              "<style scoped>\n",
              "    .dataframe tbody tr th:only-of-type {\n",
              "        vertical-align: middle;\n",
              "    }\n",
              "\n",
              "    .dataframe tbody tr th {\n",
              "        vertical-align: top;\n",
              "    }\n",
              "\n",
              "    .dataframe thead th {\n",
              "        text-align: right;\n",
              "    }\n",
              "</style>\n",
              "<table border=\"1\" class=\"dataframe\">\n",
              "  <thead>\n",
              "    <tr style=\"text-align: right;\">\n",
              "      <th></th>\n",
              "      <th>ORDERTYPE</th>\n",
              "      <th>CUSTOMER</th>\n",
              "      <th>ITEMCODE</th>\n",
              "      <th>ORDERDATE</th>\n",
              "      <th>OREDEREDQUANTITY</th>\n",
              "    </tr>\n",
              "  </thead>\n",
              "  <tbody>\n",
              "    <tr>\n",
              "      <th>0</th>\n",
              "      <td>0</td>\n",
              "      <td>136</td>\n",
              "      <td>432</td>\n",
              "      <td>172</td>\n",
              "      <td>15.0</td>\n",
              "    </tr>\n",
              "    <tr>\n",
              "      <th>1</th>\n",
              "      <td>0</td>\n",
              "      <td>136</td>\n",
              "      <td>15</td>\n",
              "      <td>172</td>\n",
              "      <td>750.0</td>\n",
              "    </tr>\n",
              "    <tr>\n",
              "      <th>2</th>\n",
              "      <td>0</td>\n",
              "      <td>136</td>\n",
              "      <td>23</td>\n",
              "      <td>172</td>\n",
              "      <td>320.0</td>\n",
              "    </tr>\n",
              "    <tr>\n",
              "      <th>3</th>\n",
              "      <td>0</td>\n",
              "      <td>136</td>\n",
              "      <td>83</td>\n",
              "      <td>172</td>\n",
              "      <td>250.0</td>\n",
              "    </tr>\n",
              "    <tr>\n",
              "      <th>4</th>\n",
              "      <td>1</td>\n",
              "      <td>95</td>\n",
              "      <td>75</td>\n",
              "      <td>319</td>\n",
              "      <td>250.0</td>\n",
              "    </tr>\n",
              "  </tbody>\n",
              "</table>\n",
              "</div>"
            ],
            "text/plain": [
              "   ORDERTYPE  CUSTOMER  ITEMCODE  ORDERDATE  OREDEREDQUANTITY\n",
              "0          0       136       432        172              15.0\n",
              "1          0       136        15        172             750.0\n",
              "2          0       136        23        172             320.0\n",
              "3          0       136        83        172             250.0\n",
              "4          1        95        75        319             250.0"
            ]
          },
          "metadata": {
            "tags": []
          },
          "execution_count": 23
        }
      ]
    },
    {
      "cell_type": "code",
      "metadata": {
        "colab": {
          "base_uri": "https://localhost:8080/",
          "height": 282
        },
        "id": "kRVoAsKzV_IM",
        "outputId": "702e8f0f-01dc-4543-f642-5146c447fcdd"
      },
      "source": [
        "df.boxplot()"
      ],
      "execution_count": 24,
      "outputs": [
        {
          "output_type": "execute_result",
          "data": {
            "text/plain": [
              "<matplotlib.axes._subplots.AxesSubplot at 0x7fe38bef1320>"
            ]
          },
          "metadata": {
            "tags": []
          },
          "execution_count": 24
        },
        {
          "output_type": "display_data",
          "data": {
            "image/png": "[encoded data removed]",
            "text/plain": [
              "<Figure size 432x288 with 1 Axes>"
            ]
          },
          "metadata": {
            "tags": [],
            "needs_background": "light"
          }
        }
      ]
    },
    {
      "cell_type": "code",
      "metadata": {
        "id": "iFwYbU8oV_IN"
      },
      "source": [
        "# By summary of staistics,negative values are there and that rows can be dropped or replaced with 0 \n",
        "# '-'can replaced with empty space using regex.(#Checking with domain experts we can place it accordingly )\n",
        "\n",
        "# Here i replaced all negative values with 0. \n",
        "\n",
        "df[df['OREDEREDQUANTITY']<0] =0"
      ],
      "execution_count": 25,
      "outputs": []
    },
    {
      "cell_type": "code",
      "metadata": {
        "colab": {
          "base_uri": "https://localhost:8080/",
          "height": 297
        },
        "id": "spw2ODvyV_IO",
        "outputId": "7fa411b1-bb14-4494-8711-d0c18d9b3ce4"
      },
      "source": [
        "df.describe()"
      ],
      "execution_count": 26,
      "outputs": [
        {
          "output_type": "execute_result",
          "data": {
            "text/html": [
              "<div>\n",
              "<style scoped>\n",
              "    .dataframe tbody tr th:only-of-type {\n",
              "        vertical-align: middle;\n",
              "    }\n",
              "\n",
              "    .dataframe tbody tr th {\n",
              "        vertical-align: top;\n",
              "    }\n",
              "\n",
              "    .dataframe thead th {\n",
              "        text-align: right;\n",
              "    }\n",
              "</style>\n",
              "<table border=\"1\" class=\"dataframe\">\n",
              "  <thead>\n",
              "    <tr style=\"text-align: right;\">\n",
              "      <th></th>\n",
              "      <th>ORDERTYPE</th>\n",
              "      <th>CUSTOMER</th>\n",
              "      <th>ITEMCODE</th>\n",
              "      <th>ORDERDATE</th>\n",
              "      <th>OREDEREDQUANTITY</th>\n",
              "    </tr>\n",
              "  </thead>\n",
              "  <tbody>\n",
              "    <tr>\n",
              "      <th>count</th>\n",
              "      <td>51290.000000</td>\n",
              "      <td>51290.000000</td>\n",
              "      <td>51290.000000</td>\n",
              "      <td>51290.000000</td>\n",
              "      <td>51290.000000</td>\n",
              "    </tr>\n",
              "    <tr>\n",
              "      <th>mean</th>\n",
              "      <td>0.244707</td>\n",
              "      <td>136.195945</td>\n",
              "      <td>136.893313</td>\n",
              "      <td>178.316241</td>\n",
              "      <td>805.616802</td>\n",
              "    </tr>\n",
              "    <tr>\n",
              "      <th>std</th>\n",
              "      <td>0.431547</td>\n",
              "      <td>80.449751</td>\n",
              "      <td>142.185213</td>\n",
              "      <td>104.168389</td>\n",
              "      <td>2717.814670</td>\n",
              "    </tr>\n",
              "    <tr>\n",
              "      <th>min</th>\n",
              "      <td>0.000000</td>\n",
              "      <td>0.000000</td>\n",
              "      <td>0.000000</td>\n",
              "      <td>0.000000</td>\n",
              "      <td>0.000000</td>\n",
              "    </tr>\n",
              "    <tr>\n",
              "      <th>25%</th>\n",
              "      <td>0.000000</td>\n",
              "      <td>58.000000</td>\n",
              "      <td>26.000000</td>\n",
              "      <td>90.000000</td>\n",
              "      <td>72.000000</td>\n",
              "    </tr>\n",
              "    <tr>\n",
              "      <th>50%</th>\n",
              "      <td>0.000000</td>\n",
              "      <td>144.000000</td>\n",
              "      <td>87.000000</td>\n",
              "      <td>180.000000</td>\n",
              "      <td>250.000000</td>\n",
              "    </tr>\n",
              "    <tr>\n",
              "      <th>75%</th>\n",
              "      <td>0.000000</td>\n",
              "      <td>211.000000</td>\n",
              "      <td>158.000000</td>\n",
              "      <td>267.000000</td>\n",
              "      <td>960.000000</td>\n",
              "    </tr>\n",
              "    <tr>\n",
              "      <th>max</th>\n",
              "      <td>3.000000</td>\n",
              "      <td>278.000000</td>\n",
              "      <td>527.000000</td>\n",
              "      <td>364.000000</td>\n",
              "      <td>120000.000000</td>\n",
              "    </tr>\n",
              "  </tbody>\n",
              "</table>\n",
              "</div>"
            ],
            "text/plain": [
              "          ORDERTYPE      CUSTOMER      ITEMCODE     ORDERDATE  OREDEREDQUANTITY\n",
              "count  51290.000000  51290.000000  51290.000000  51290.000000      51290.000000\n",
              "mean       0.244707    136.195945    136.893313    178.316241        805.616802\n",
              "std        0.431547     80.449751    142.185213    104.168389       2717.814670\n",
              "min        0.000000      0.000000      0.000000      0.000000          0.000000\n",
              "25%        0.000000     58.000000     26.000000     90.000000         72.000000\n",
              "50%        0.000000    144.000000     87.000000    180.000000        250.000000\n",
              "75%        0.000000    211.000000    158.000000    267.000000        960.000000\n",
              "max        3.000000    278.000000    527.000000    364.000000     120000.000000"
            ]
          },
          "metadata": {
            "tags": []
          },
          "execution_count": 26
        }
      ]
    },
    {
      "cell_type": "code",
      "metadata": {
        "id": "adG5Qc9UV_IP"
      },
      "source": [
        "# Selecting the predictor variables\n",
        "\n",
        "x=df.iloc[:,:-1].values"
      ],
      "execution_count": 27,
      "outputs": []
    },
    {
      "cell_type": "code",
      "metadata": {
        "id": "iNCZEyC_V_IQ"
      },
      "source": [
        "# Selecting class variable\n",
        "\n",
        "y=df.iloc[:,4].values"
      ],
      "execution_count": 28,
      "outputs": []
    },
    {
      "cell_type": "code",
      "metadata": {
        "id": "arHnny04V_IR"
      },
      "source": [
        "# Splitting the data in train and test.\n",
        "\n",
        "from sklearn.model_selection import train_test_split"
      ],
      "execution_count": 32,
      "outputs": []
    },
    {
      "cell_type": "code",
      "metadata": {
        "id": "ibfgDOXBV_IS"
      },
      "source": [
        "xtrain,xtest,ytrain,ytest=train_test_split(x,y,test_size=0.3,random_state=10)"
      ],
      "execution_count": 33,
      "outputs": []
    },
    {
      "cell_type": "code",
      "metadata": {
        "id": "hUY10JiPV_IS"
      },
      "source": [
        "# Selecting the Classifier\n",
        "\n",
        "from sklearn.ensemble import RandomForestRegressor"
      ],
      "execution_count": 31,
      "outputs": []
    },
    {
      "cell_type": "code",
      "metadata": {
        "id": "9O-7uGo2V_IT"
      },
      "source": [
        "r=RandomForestRegressor()"
      ],
      "execution_count": null,
      "outputs": []
    },
    {
      "cell_type": "code",
      "metadata": {
        "id": "xgcmy8iOV_IU",
        "outputId": "d20ff451-953c-4641-cd5f-1ea4a508d953"
      },
      "source": [
        "r.fit(xtrain,ytrain)"
      ],
      "execution_count": null,
      "outputs": [
        {
          "output_type": "execute_result",
          "data": {
            "text/plain": [
              "RandomForestRegressor(bootstrap=True, criterion='mse', max_depth=None,\n",
              "           max_features='auto', max_leaf_nodes=None,\n",
              "           min_impurity_decrease=0.0, min_impurity_split=None,\n",
              "           min_samples_leaf=1, min_samples_split=2,\n",
              "           min_weight_fraction_leaf=0.0, n_estimators=10, n_jobs=1,\n",
              "           oob_score=False, random_state=None, verbose=0, warm_start=False)"
            ]
          },
          "metadata": {
            "tags": []
          },
          "execution_count": 100
        }
      ]
    },
    {
      "cell_type": "code",
      "metadata": {
        "id": "Y6BI_04WV_IV"
      },
      "source": [
        "ypredict=r.predict(xtest)"
      ],
      "execution_count": null,
      "outputs": []
    },
    {
      "cell_type": "code",
      "metadata": {
        "id": "hCUZfbOiV_IV"
      },
      "source": [
        "# Using R-sqaured or coefficient of deteremination is a statistical measure of how close the data are to the fitted \n",
        "# regression line\n",
        "\n",
        "from sklearn.metrics import r2_score,mean_squared_error"
      ],
      "execution_count": null,
      "outputs": []
    },
    {
      "cell_type": "code",
      "metadata": {
        "id": "CdVeaCB6V_IW",
        "outputId": "6f1acefb-2632-4f38-d8f0-f353554f3860"
      },
      "source": [
        "r2_score(ypredict,ytest)"
      ],
      "execution_count": null,
      "outputs": [
        {
          "output_type": "execute_result",
          "data": {
            "text/plain": [
              "0.9342739505980229"
            ]
          },
          "metadata": {
            "tags": []
          },
          "execution_count": 103
        }
      ]
    },
    {
      "cell_type": "code",
      "metadata": {
        "id": "whUGDGjnV_IX"
      },
      "source": [
        "#mean_error=np.sqrt(mean_squared_error(ypredict,ytest))"
      ],
      "execution_count": null,
      "outputs": []
    },
    {
      "cell_type": "code",
      "metadata": {
        "id": "HHw8jaO1V_IY"
      },
      "source": [
        "#mean_error"
      ],
      "execution_count": null,
      "outputs": []
    },
    {
      "cell_type": "code",
      "metadata": {
        "id": "FVjCvmydV_IY"
      },
      "source": [
        ""
      ],
      "execution_count": null,
      "outputs": []
    },
    {
      "cell_type": "code",
      "metadata": {
        "id": "bp0IZtAzV_IZ"
      },
      "source": [
        ""
      ],
      "execution_count": null,
      "outputs": []
    },
    {
      "cell_type": "code",
      "metadata": {
        "id": "IVyayngqV_IZ"
      },
      "source": [
        ""
      ],
      "execution_count": null,
      "outputs": []
    }
  ]
}